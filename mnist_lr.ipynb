{
 "cells": [
  {
   "cell_type": "code",
   "execution_count": 1,
   "id": "efcb26c2",
   "metadata": {},
   "outputs": [],
   "source": [
    "import torch\n",
    "import torchvision\n",
    "from torchvision.datasets import MNIST\n",
    "import torchvision.transforms as transforms\n",
    "from torch.utils.data import DataLoader, random_split\n",
    "import torch.nn as nn\n",
    "import torch.nn.functional as F\n",
    "import torch.optim as optim\n",
    "import numpy as np\n",
    "import matplotlib.pyplot as plt\n",
    "%matplotlib inline"
   ]
  },
  {
   "cell_type": "code",
   "execution_count": 2,
   "id": "d2719990",
   "metadata": {},
   "outputs": [],
   "source": [
    "dataset = MNIST(root='./data', download=True)"
   ]
  },
  {
   "cell_type": "code",
   "execution_count": 3,
   "id": "395fdd1e",
   "metadata": {},
   "outputs": [
    {
     "data": {
      "text/plain": [
       "60000"
      ]
     },
     "execution_count": 3,
     "metadata": {},
     "output_type": "execute_result"
    }
   ],
   "source": [
    "len(dataset)"
   ]
  },
  {
   "cell_type": "code",
   "execution_count": 4,
   "id": "3fe79a5a",
   "metadata": {},
   "outputs": [],
   "source": [
    "test_dataset = MNIST(root='./data', train=False)"
   ]
  },
  {
   "cell_type": "code",
   "execution_count": 5,
   "id": "962e2233",
   "metadata": {},
   "outputs": [
    {
     "data": {
      "text/plain": [
       "10000"
      ]
     },
     "execution_count": 5,
     "metadata": {},
     "output_type": "execute_result"
    }
   ],
   "source": [
    "len(test_dataset)"
   ]
  },
  {
   "cell_type": "code",
   "execution_count": 6,
   "id": "c00ccfed",
   "metadata": {},
   "outputs": [
    {
     "data": {
      "text/plain": [
       "(<PIL.Image.Image image mode=L size=28x28>, 5)"
      ]
     },
     "execution_count": 6,
     "metadata": {},
     "output_type": "execute_result"
    }
   ],
   "source": [
    "dataset[0]"
   ]
  },
  {
   "cell_type": "code",
   "execution_count": 7,
   "id": "88ea8b69",
   "metadata": {},
   "outputs": [
    {
     "data": {
      "image/png": "[encoded data removed]",
      "text/plain": [
       "<Figure size 1200x600 with 10 Axes>"
      ]
     },
     "metadata": {},
     "output_type": "display_data"
    }
   ],
   "source": [
    "plt.figure(figsize=(12, 6))\n",
    "for i in range(10):\n",
    "    image, label = dataset[i]\n",
    "    plt.subplot(2, 5, i+1)\n",
    "    plt.axis('off')\n",
    "    plt.imshow(image, cmap='gray')\n",
    "    plt.title(f'Label: {label}')\n",
    "plt.tight_layout()\n",
    "plt.show()"
   ]
  },
  {
   "cell_type": "code",
   "execution_count": 8,
   "id": "04e3609f",
   "metadata": {},
   "outputs": [],
   "source": [
    "dataset = MNIST(root='./data', train=True, transform=transforms.ToTensor())"
   ]
  },
  {
   "cell_type": "code",
   "execution_count": 9,
   "id": "61c80185",
   "metadata": {},
   "outputs": [
    {
     "data": {
      "text/plain": [
       "(torch.Size([1, 28, 28]), 5)"
      ]
     },
     "execution_count": 9,
     "metadata": {},
     "output_type": "execute_result"
    }
   ],
   "source": [
    "img_tensor, label = dataset[0]\n",
    "img_tensor.shape, label"
   ]
  },
  {
   "cell_type": "code",
   "execution_count": 10,
   "id": "4888d6ca",
   "metadata": {},
   "outputs": [
    {
     "name": "stdout",
     "output_type": "stream",
     "text": [
      "tensor([[0.0039, 0.6039, 0.9922, 0.3529, 0.0000],\n",
      "        [0.0000, 0.5451, 0.9922, 0.7451, 0.0078],\n",
      "        [0.0000, 0.0431, 0.7451, 0.9922, 0.2745],\n",
      "        [0.0000, 0.0000, 0.1373, 0.9451, 0.8824],\n",
      "        [0.0000, 0.0000, 0.0000, 0.3176, 0.9412]])\n",
      "tensor(1.) tensor(0.)\n"
     ]
    }
   ],
   "source": [
    "print(img_tensor[0, 10:15, 10:15])\n",
    "print(torch.max(img_tensor), torch.min(img_tensor))"
   ]
  },
  {
   "cell_type": "code",
   "execution_count": 11,
   "id": "6b26c65d",
   "metadata": {},
   "outputs": [
    {
     "data": {
      "text/plain": [
       "<matplotlib.image.AxesImage at 0x30e832040>"
      ]
     },
     "execution_count": 11,
     "metadata": {},
     "output_type": "execute_result"
    },
    {
     "data": {
      "image/png": "[encoded data removed]",
      "text/plain": [
       "<Figure size 640x480 with 1 Axes>"
      ]
     },
     "metadata": {},
     "output_type": "display_data"
    }
   ],
   "source": [
    "plt.imshow(img_tensor[0, 10:15, 10:15], cmap='gray')"
   ]
  },
  {
   "cell_type": "code",
   "execution_count": 12,
   "id": "e8cb5b2a",
   "metadata": {},
   "outputs": [
    {
     "data": {
      "text/plain": [
       "(50000, 10000)"
      ]
     },
     "execution_count": 12,
     "metadata": {},
     "output_type": "execute_result"
    }
   ],
   "source": [
    "train_ds, val_ds = random_split(dataset, [50000, 10000])\n",
    "len(train_ds), len(val_ds)"
   ]
  },
  {
   "cell_type": "code",
   "execution_count": 13,
   "id": "0dc7a5d7",
   "metadata": {},
   "outputs": [],
   "source": [
    "batch_size = 128\n",
    "\n",
    "train_loader = DataLoader(train_ds, batch_size=batch_size, shuffle=True)\n",
    "val_loader = DataLoader(val_ds, batch_size=batch_size, shuffle=False)"
   ]
  },
  {
   "cell_type": "code",
   "execution_count": 14,
   "id": "3b7e663b",
   "metadata": {},
   "outputs": [],
   "source": [
    "input_size = 28*28\n",
    "num_classes = 10\n",
    "\n",
    "model = nn.Linear(input_size, num_classes)"
   ]
  },
  {
   "cell_type": "code",
   "execution_count": 15,
   "id": "bfe38cbe",
   "metadata": {},
   "outputs": [
    {
     "name": "stdout",
     "output_type": "stream",
     "text": [
      "torch.Size([10, 784])\n",
      "torch.Size([10])\n"
     ]
    }
   ],
   "source": [
    "print(model.weight.shape)\n",
    "print(model.bias.shape)"
   ]
  },
  {
   "cell_type": "code",
   "execution_count": 16,
   "id": "9710ab72",
   "metadata": {},
   "outputs": [
    {
     "name": "stdout",
     "output_type": "stream",
     "text": [
      "tensor([1, 8, 1, 7, 3, 0, 5, 1, 7, 9, 1, 9, 7, 8, 5, 9, 9, 6, 7, 0, 3, 7, 4, 1,\n",
      "        5, 3, 7, 1, 4, 7, 1, 4, 9, 4, 4, 3, 7, 3, 2, 7, 7, 3, 5, 2, 0, 6, 7, 0,\n",
      "        2, 1, 6, 4, 8, 9, 7, 6, 2, 0, 5, 9, 1, 3, 9, 1, 5, 5, 4, 2, 4, 3, 5, 6,\n",
      "        8, 6, 2, 3, 2, 0, 9, 8, 8, 1, 8, 8, 0, 6, 0, 3, 1, 8, 4, 1, 2, 4, 0, 6,\n",
      "        8, 2, 8, 1, 6, 2, 5, 8, 9, 3, 4, 4, 8, 1, 7, 1, 7, 6, 6, 4, 6, 9, 0, 5,\n",
      "        3, 3, 5, 2, 7, 9, 3, 6])\n",
      "torch.Size([128, 1, 28, 28]) torch.Size([128])\n",
      "torch.Size([128, 10])\n",
      "tensor([ 0.1118,  0.3069,  0.1262, -0.1521,  0.1801,  0.0260,  0.1531,  0.0167,\n",
      "        -0.0187,  0.0414], grad_fn=<SelectBackward0>)\n"
     ]
    }
   ],
   "source": [
    "for images, labels in train_loader:\n",
    "    print(labels)\n",
    "    print(images.shape, labels.shape)\n",
    "    outputs = model(images.reshape(images.shape[0], -1))\n",
    "    print(outputs.shape)\n",
    "    print(outputs[0])\n",
    "    break"
   ]
  },
  {
   "cell_type": "code",
   "execution_count": 17,
   "id": "450805aa",
   "metadata": {},
   "outputs": [
    {
     "data": {
      "text/plain": [
       "torch.Size([128, 1, 28, 28])"
      ]
     },
     "execution_count": 17,
     "metadata": {},
     "output_type": "execute_result"
    }
   ],
   "source": [
    "images.shape"
   ]
  },
  {
   "cell_type": "code",
   "execution_count": 30,
   "id": "79f85424",
   "metadata": {},
   "outputs": [],
   "source": [
    "class MNISTModel(nn.Module):\n",
    "    def __init__(self):\n",
    "        super().__init__()\n",
    "        self.fc = nn.Linear(input_size, num_classes)\n",
    "\n",
    "    def forward(self, x):\n",
    "        x = x.reshape(x.shape[0], -1)\n",
    "        return self.fc(x)\n",
    "    \n",
    "    def training_step(self, batch):\n",
    "        images, labels = batch\n",
    "        outputs = self(images)\n",
    "        loss = F.cross_entropy(outputs, labels)\n",
    "        return {'loss': loss}\n",
    "    \n",
    "    def validation_step(self, batch):\n",
    "        images, labels = batch\n",
    "        outputs = self(images)\n",
    "        loss = F.cross_entropy(outputs, labels)\n",
    "        acc = (outputs.argmax(dim=1) == labels).float().mean()\n",
    "        return {'val_loss': loss, 'val_acc': acc}\n",
    "    \n",
    "    def validation_epoch_end(self, outputs):\n",
    "        batch_losses = [x['val_loss'] for x in outputs]\n",
    "        epoch_loss = torch.stack(batch_losses).mean()\n",
    "        batch_accs = [x['val_acc'] for x in outputs]\n",
    "        epoch_acc = torch.stack(batch_accs).mean()\n",
    "        return {'val_loss': epoch_loss.item(), 'val_acc': epoch_acc.item()}\n",
    "    \n",
    "    def epoch_end(self, epoch, result):\n",
    "        print(f'Epoch [{epoch}], val_loss: {result[\"val_loss\"]:.4f}, val_acc: {result[\"val_acc\"]:.4f}')\n",
    "    \n",
    "\n",
    "model = MNISTModel()"
   ]
  },
  {
   "cell_type": "code",
   "execution_count": 31,
   "id": "4e78fa9e",
   "metadata": {},
   "outputs": [
    {
     "data": {
      "text/plain": [
       "Linear(in_features=784, out_features=10, bias=True)"
      ]
     },
     "execution_count": 31,
     "metadata": {},
     "output_type": "execute_result"
    }
   ],
   "source": [
    "model.fc"
   ]
  },
  {
   "cell_type": "code",
   "execution_count": 20,
   "id": "753e5a6c",
   "metadata": {},
   "outputs": [
    {
     "name": "stdout",
     "output_type": "stream",
     "text": [
      "torch.Size([10, 784]) torch.Size([10])\n"
     ]
    }
   ],
   "source": [
    "print(model.fc.weight.shape, model.fc.bias.shape)"
   ]
  },
  {
   "cell_type": "code",
   "execution_count": 21,
   "id": "7a7eac93",
   "metadata": {},
   "outputs": [
    {
     "data": {
      "text/plain": [
       "[Parameter containing:\n",
       " tensor([[-2.2556e-02,  6.4441e-03,  1.9656e-02,  ...,  5.0599e-03,\n",
       "          -1.3133e-02,  1.6053e-02],\n",
       "         [ 6.7110e-03,  1.7538e-02,  1.2750e-02,  ...,  1.0366e-02,\n",
       "          -2.8383e-02,  3.0054e-02],\n",
       "         [-4.7211e-05, -3.4434e-03, -3.5003e-02,  ..., -1.5922e-02,\n",
       "           1.1142e-02, -2.6285e-02],\n",
       "         ...,\n",
       "         [ 3.0061e-02,  2.7432e-04,  3.3322e-02,  ..., -3.1518e-02,\n",
       "           1.3900e-02,  7.0929e-03],\n",
       "         [ 2.9686e-02, -1.7194e-02, -6.3406e-03,  ..., -3.0602e-02,\n",
       "          -3.0556e-02, -2.3751e-02],\n",
       "         [-3.2713e-02,  3.1409e-02,  3.5567e-02,  ..., -1.4705e-02,\n",
       "          -3.1804e-02,  2.8948e-03]], requires_grad=True),\n",
       " Parameter containing:\n",
       " tensor([-0.0224, -0.0073,  0.0099,  0.0309,  0.0244,  0.0029,  0.0337, -0.0043,\n",
       "         -0.0329,  0.0091], requires_grad=True)]"
      ]
     },
     "execution_count": 21,
     "metadata": {},
     "output_type": "execute_result"
    }
   ],
   "source": [
    "list(model.parameters())"
   ]
  },
  {
   "cell_type": "code",
   "execution_count": 22,
   "id": "d911c9eb",
   "metadata": {},
   "outputs": [
    {
     "name": "stdout",
     "output_type": "stream",
     "text": [
      "Output shape: torch.Size([128, 10])\n",
      "Sample output: tensor([[-0.1194, -0.0276, -0.2134, -0.0986,  0.1334, -0.0613,  0.1712, -0.0351,\n",
      "          0.0270,  0.0712],\n",
      "        [-0.2397,  0.0838,  0.0137,  0.1495,  0.0944, -0.0674,  0.2437,  0.1000,\n",
      "          0.0881, -0.1472]])\n"
     ]
    }
   ],
   "source": [
    "for images, labels in train_loader:\n",
    "    outputs = model(images)\n",
    "    break\n",
    "\n",
    "print(f'Output shape: {outputs.shape}')\n",
    "print(f'Sample output: {outputs[:2].data}')"
   ]
  },
  {
   "cell_type": "code",
   "execution_count": 23,
   "id": "6fd0ea54",
   "metadata": {},
   "outputs": [
    {
     "name": "stdout",
     "output_type": "stream",
     "text": [
      "Probabilities shape: torch.Size([128, 10])\n",
      "Sample probabilities: tensor([[0.0895, 0.0982, 0.0815, 0.0914, 0.1153, 0.0949, 0.1197, 0.0974, 0.1037,\n",
      "         0.1083],\n",
      "        [0.0755, 0.1044, 0.0973, 0.1114, 0.1055, 0.0897, 0.1225, 0.1061, 0.1048,\n",
      "         0.0828]])\n"
     ]
    }
   ],
   "source": [
    "probs = F.softmax(outputs, dim=1)\n",
    "print(f'Probabilities shape: {probs.shape}')\n",
    "print(f'Sample probabilities: {probs[:2].data}')"
   ]
  },
  {
   "cell_type": "code",
   "execution_count": 24,
   "id": "6e2f1352",
   "metadata": {},
   "outputs": [
    {
     "name": "stdout",
     "output_type": "stream",
     "text": [
      "Max probabilities shape: torch.Size([128])\n",
      "Predictions shape: torch.Size([128])\n",
      "tensor([0.1197, 0.1225, 0.1440, 0.1403, 0.1439, 0.1200, 0.1561, 0.1280, 0.1304,\n",
      "        0.1638, 0.1198, 0.1186, 0.1491, 0.1563, 0.1313, 0.1568, 0.1288, 0.1296,\n",
      "        0.1266, 0.1387, 0.1344, 0.1335, 0.1483, 0.1282, 0.1405, 0.1247, 0.1317,\n",
      "        0.1453, 0.1624, 0.1357, 0.1198, 0.1470, 0.1281, 0.1526, 0.1371, 0.1194,\n",
      "        0.1162, 0.1399, 0.1206, 0.1311, 0.1366, 0.1490, 0.1382, 0.1218, 0.1445,\n",
      "        0.1314, 0.1312, 0.1259, 0.1292, 0.1220, 0.1177, 0.1459, 0.1420, 0.1402,\n",
      "        0.1362, 0.1361, 0.1633, 0.1341, 0.1483, 0.1191, 0.1502, 0.1391, 0.1644,\n",
      "        0.1269, 0.1147, 0.1307, 0.1443, 0.1231, 0.1129, 0.1401, 0.1443, 0.1441,\n",
      "        0.1235, 0.1344, 0.1541, 0.1408, 0.1203, 0.1098, 0.1465, 0.1475, 0.1268,\n",
      "        0.1263, 0.1578, 0.1432, 0.1565, 0.1436, 0.1241, 0.1274, 0.1279, 0.1519,\n",
      "        0.1482, 0.1465, 0.1377, 0.1388, 0.1493, 0.1200, 0.1170, 0.1317, 0.1298,\n",
      "        0.1380, 0.1445, 0.1191, 0.1143, 0.1339, 0.1454, 0.1167, 0.1366, 0.1195,\n",
      "        0.1150, 0.1250, 0.1231, 0.1312, 0.1679, 0.1459, 0.1334, 0.1544, 0.1455,\n",
      "        0.1351, 0.1409, 0.1404, 0.1330, 0.1367, 0.1438, 0.1295, 0.1286, 0.1448,\n",
      "        0.1386, 0.1292], grad_fn=<MaxBackward0>)\n",
      "tensor([6, 6, 6, 5, 8, 7, 6, 3, 7, 6, 6, 6, 6, 6, 8, 6, 8, 8, 7, 6, 6, 7, 6, 2,\n",
      "        3, 7, 8, 6, 8, 6, 6, 6, 6, 6, 6, 8, 3, 6, 8, 6, 8, 6, 8, 4, 8, 6, 8, 6,\n",
      "        7, 8, 4, 6, 6, 6, 8, 2, 6, 8, 6, 5, 6, 8, 6, 8, 6, 6, 0, 6, 6, 6, 6, 6,\n",
      "        7, 8, 6, 6, 1, 3, 8, 6, 6, 7, 6, 3, 8, 6, 4, 6, 6, 8, 6, 6, 6, 8, 8, 8,\n",
      "        6, 8, 1, 6, 6, 6, 5, 6, 7, 7, 6, 7, 6, 6, 7, 3, 6, 6, 6, 6, 6, 6, 8, 6,\n",
      "        5, 6, 8, 7, 7, 6, 8, 6])\n"
     ]
    }
   ],
   "source": [
    "max_probs, preds = torch.max(probs, dim=1)\n",
    "print(f'Max probabilities shape: {max_probs.shape}')\n",
    "print(f'Predictions shape: {preds.shape}')\n",
    "print(max_probs)\n",
    "print(preds)"
   ]
  },
  {
   "cell_type": "code",
   "execution_count": 25,
   "id": "85b1375e",
   "metadata": {},
   "outputs": [],
   "source": [
    "def accuracy(outputs, labels):\n",
    "    _, preds = torch.max(outputs, dim=1)\n",
    "    correct = (preds == labels).sum().item()\n",
    "    return correct / len(preds)"
   ]
  },
  {
   "cell_type": "code",
   "execution_count": 26,
   "id": "ea7f09d9",
   "metadata": {},
   "outputs": [
    {
     "data": {
      "text/plain": [
       "0.0703125"
      ]
     },
     "execution_count": 26,
     "metadata": {},
     "output_type": "execute_result"
    }
   ],
   "source": [
    "accuracy(outputs, labels)"
   ]
  },
  {
   "cell_type": "code",
   "execution_count": 27,
   "id": "d91824e3",
   "metadata": {},
   "outputs": [],
   "source": [
    "loss_fn = F.cross_entropy"
   ]
  },
  {
   "cell_type": "code",
   "execution_count": 28,
   "id": "f6a5feaa",
   "metadata": {},
   "outputs": [
    {
     "name": "stdout",
     "output_type": "stream",
     "text": [
      "Loss: 2.3331665992736816\n"
     ]
    }
   ],
   "source": [
    "loss = loss_fn(outputs, labels)\n",
    "print(f'Loss: {loss.item()}')"
   ]
  },
  {
   "cell_type": "code",
   "execution_count": 32,
   "id": "cec8516c",
   "metadata": {},
   "outputs": [],
   "source": [
    "opt_func = optim.SGD"
   ]
  },
  {
   "cell_type": "code",
   "execution_count": 34,
   "id": "5cc5c4d6",
   "metadata": {},
   "outputs": [],
   "source": [
    "def evaluate(model, val_loader):\n",
    "    outputs = [model.validation_step(batch) for batch in val_loader]\n",
    "    return model.validation_epoch_end(outputs)"
   ]
  },
  {
   "cell_type": "code",
   "execution_count": 44,
   "id": "f84a83c0",
   "metadata": {},
   "outputs": [],
   "source": [
    "def fit(epochs, lr, model, train_loader, val_loader, opt_func=opt_func):\n",
    "    optimizer = opt_func(model.parameters(), lr)\n",
    "    history = []\n",
    "    \n",
    "    for epoch in range(epochs):\n",
    "        for batch in train_loader:\n",
    "            loss_dict = model.training_step(batch)\n",
    "            loss = loss_dict['loss']  # Extract the loss tensor from the dictionary\n",
    "            loss.backward()\n",
    "            optimizer.step()\n",
    "            optimizer.zero_grad()\n",
    "\n",
    "        result = evaluate(model, val_loader)\n",
    "        model.epoch_end(epoch, result)\n",
    "        history.append(result)\n",
    "    \n",
    "    return history"
   ]
  },
  {
   "cell_type": "code",
   "execution_count": 39,
   "id": "b7305f0b",
   "metadata": {},
   "outputs": [
    {
     "data": {
      "text/plain": [
       "{'val_loss': 2.3126845359802246, 'val_acc': 0.11867088824510574}"
      ]
     },
     "execution_count": 39,
     "metadata": {},
     "output_type": "execute_result"
    }
   ],
   "source": [
    "result0 = evaluate(model, val_loader)\n",
    "result0"
   ]
  },
  {
   "cell_type": "code",
   "execution_count": 45,
   "id": "79eef738",
   "metadata": {},
   "outputs": [
    {
     "name": "stdout",
     "output_type": "stream",
     "text": [
      "Epoch [0], val_loss: 1.9406, val_acc: 0.6253\n",
      "Epoch [1], val_loss: 1.6715, val_acc: 0.7323\n",
      "Epoch [2], val_loss: 1.4717, val_acc: 0.7646\n",
      "Epoch [3], val_loss: 1.3212, val_acc: 0.7811\n",
      "Epoch [4], val_loss: 1.2057, val_acc: 0.7921\n"
     ]
    }
   ],
   "source": [
    "history1 = fit(5, 0.001, model, train_loader, val_loader)"
   ]
  },
  {
   "cell_type": "code",
   "execution_count": 46,
   "id": "e796bac8",
   "metadata": {},
   "outputs": [
    {
     "name": "stdout",
     "output_type": "stream",
     "text": [
      "Epoch [0], val_loss: 1.1151, val_acc: 0.8012\n",
      "Epoch [1], val_loss: 1.0426, val_acc: 0.8083\n",
      "Epoch [1], val_loss: 1.0426, val_acc: 0.8083\n",
      "Epoch [2], val_loss: 0.9833, val_acc: 0.8147\n",
      "Epoch [2], val_loss: 0.9833, val_acc: 0.8147\n",
      "Epoch [3], val_loss: 0.9341, val_acc: 0.8191\n",
      "Epoch [3], val_loss: 0.9341, val_acc: 0.8191\n",
      "Epoch [4], val_loss: 0.8926, val_acc: 0.8234\n",
      "Epoch [4], val_loss: 0.8926, val_acc: 0.8234\n"
     ]
    }
   ],
   "source": [
    "history2 = fit(5, 0.001, model, train_loader, val_loader)"
   ]
  },
  {
   "cell_type": "code",
   "execution_count": 47,
   "id": "536b4493",
   "metadata": {},
   "outputs": [
    {
     "name": "stdout",
     "output_type": "stream",
     "text": [
      "Epoch [0], val_loss: 0.8570, val_acc: 0.8269\n",
      "Epoch [1], val_loss: 0.8262, val_acc: 0.8296\n",
      "Epoch [1], val_loss: 0.8262, val_acc: 0.8296\n",
      "Epoch [2], val_loss: 0.7993, val_acc: 0.8318\n",
      "Epoch [2], val_loss: 0.7993, val_acc: 0.8318\n",
      "Epoch [3], val_loss: 0.7755, val_acc: 0.8327\n",
      "Epoch [3], val_loss: 0.7755, val_acc: 0.8327\n",
      "Epoch [4], val_loss: 0.7544, val_acc: 0.8350\n",
      "Epoch [4], val_loss: 0.7544, val_acc: 0.8350\n"
     ]
    }
   ],
   "source": [
    "history3 = fit(5, 0.001, model, train_loader, val_loader)"
   ]
  },
  {
   "cell_type": "code",
   "execution_count": 48,
   "id": "025f741e",
   "metadata": {},
   "outputs": [
    {
     "name": "stdout",
     "output_type": "stream",
     "text": [
      "Epoch [0], val_loss: 0.7354, val_acc: 0.8379\n",
      "Epoch [1], val_loss: 0.7183, val_acc: 0.8392\n",
      "Epoch [1], val_loss: 0.7183, val_acc: 0.8392\n",
      "Epoch [2], val_loss: 0.7028, val_acc: 0.8408\n",
      "Epoch [2], val_loss: 0.7028, val_acc: 0.8408\n",
      "Epoch [3], val_loss: 0.6886, val_acc: 0.8428\n",
      "Epoch [3], val_loss: 0.6886, val_acc: 0.8428\n",
      "Epoch [4], val_loss: 0.6756, val_acc: 0.8443\n",
      "Epoch [4], val_loss: 0.6756, val_acc: 0.8443\n"
     ]
    }
   ],
   "source": [
    "history4 = fit(5, 0.001, model, train_loader, val_loader)"
   ]
  },
  {
   "cell_type": "code",
   "execution_count": 50,
   "id": "5e0d50fb",
   "metadata": {},
   "outputs": [
    {
     "name": "stdout",
     "output_type": "stream",
     "text": [
      "Epoch [0], val_loss: 0.5870, val_acc: 0.8570\n",
      "Epoch [1], val_loss: 0.5371, val_acc: 0.8624\n",
      "Epoch [1], val_loss: 0.5371, val_acc: 0.8624\n",
      "Epoch [2], val_loss: 0.5040, val_acc: 0.8675\n",
      "Epoch [2], val_loss: 0.5040, val_acc: 0.8675\n",
      "Epoch [3], val_loss: 0.4805, val_acc: 0.8714\n",
      "Epoch [3], val_loss: 0.4805, val_acc: 0.8714\n",
      "Epoch [4], val_loss: 0.4626, val_acc: 0.8755\n",
      "Epoch [4], val_loss: 0.4626, val_acc: 0.8755\n"
     ]
    }
   ],
   "source": [
    "history5 = fit(5, 0.01, model, train_loader, val_loader)"
   ]
  },
  {
   "cell_type": "code",
   "execution_count": 51,
   "id": "a7b2b0f1",
   "metadata": {},
   "outputs": [
    {
     "data": {
      "image/png": "[encoded data removed]",
      "text/plain": [
       "<Figure size 640x480 with 1 Axes>"
      ]
     },
     "metadata": {},
     "output_type": "display_data"
    }
   ],
   "source": [
    "history = [result0] + history1 + history2 + history3 + history4 + history5\n",
    "accuracies = [result['val_acc'] for result in history]\n",
    "plt.plot(accuracies, '-o')\n",
    "plt.xlabel('Epoch')\n",
    "plt.ylabel('Validation Accuracy')\n",
    "plt.title('Validation Accuracy over Epochs')\n",
    "plt.grid()\n",
    "plt.show()"
   ]
  },
  {
   "cell_type": "code",
   "execution_count": null,
   "id": "7e2f358b",
   "metadata": {},
   "outputs": [],
   "source": [
    "test_dataset = MNIST(root='./data', train=False, transform=transforms.ToTensor())\n",
    "test_loader = DataLoader(test_dataset, batch_size=256, shuffle=False) "
   ]
  },
  {
   "cell_type": "code",
   "execution_count": 53,
   "id": "f717c20a",
   "metadata": {},
   "outputs": [],
   "source": [
    "def predict_image(img, model):\n",
    "    xb = img.unsqueeze(0)  \n",
    "    yb = model(xb)\n",
    "    _, preds = torch.max(yb, dim=1)\n",
    "    return preds[0].item()"
   ]
  },
  {
   "cell_type": "code",
   "execution_count": 59,
   "id": "eeec74f9",
   "metadata": {},
   "outputs": [
    {
     "name": "stdout",
     "output_type": "stream",
     "text": [
      "Label: 7, Predicted: 7\n",
      "Label: 2, Predicted: 2\n",
      "Label: 1, Predicted: 1\n",
      "Label: 0, Predicted: 0\n",
      "Label: 4, Predicted: 4\n",
      "Label: 1, Predicted: 1\n",
      "Label: 4, Predicted: 4\n",
      "Label: 9, Predicted: 9\n",
      "Label: 5, Predicted: 6\n",
      "Label: 9, Predicted: 9\n"
     ]
    },
    {
     "data": {
      "image/png": "[encoded data removed]",
      "text/plain": [
       "<Figure size 1200x600 with 10 Axes>"
      ]
     },
     "metadata": {},
     "output_type": "display_data"
    }
   ],
   "source": [
    "plt.figure(figsize=(12, 6))\n",
    "for i in range(10):\n",
    "    img, label = test_dataset[i]\n",
    "    plt.subplot(2, 5, i+1)\n",
    "    plt.axis('off')\n",
    "    plt.imshow(img[0], cmap='gray')\n",
    "    print(f'Label: {label}, Predicted: {predict_image(img, model)}')\n",
    "plt.tight_layout()\n",
    "plt.show()"
   ]
  },
  {
   "cell_type": "code",
   "execution_count": 60,
   "id": "428fa396",
   "metadata": {},
   "outputs": [
    {
     "data": {
      "text/plain": [
       "{'val_loss': 0.4284059405326843, 'val_acc': 0.8899327516555786}"
      ]
     },
     "execution_count": 60,
     "metadata": {},
     "output_type": "execute_result"
    }
   ],
   "source": [
    "result = evaluate(model, test_loader)\n",
    "result"
   ]
  },
  {
   "cell_type": "code",
   "execution_count": 61,
   "id": "20a40cc1",
   "metadata": {},
   "outputs": [
    {
     "name": "stdout",
     "output_type": "stream",
     "text": [
      "Model saved to mnist_model.pth\n"
     ]
    }
   ],
   "source": [
    "torch.save(model.state_dict(), 'mnist_model.pth')\n",
    "print('Model saved to mnist_model.pth')"
   ]
  },
  {
   "cell_type": "code",
   "execution_count": 62,
   "id": "859f2cd4",
   "metadata": {},
   "outputs": [
    {
     "data": {
      "text/plain": [
       "OrderedDict([('fc.weight',\n",
       "              tensor([[ 0.0081,  0.0158, -0.0215,  ..., -0.0023, -0.0324, -0.0051],\n",
       "                      [ 0.0041,  0.0302, -0.0145,  ...,  0.0333,  0.0019, -0.0286],\n",
       "                      [-0.0311,  0.0032,  0.0064,  ..., -0.0249,  0.0264, -0.0266],\n",
       "                      ...,\n",
       "                      [ 0.0238,  0.0263,  0.0041,  ..., -0.0090, -0.0172,  0.0224],\n",
       "                      [ 0.0288, -0.0015, -0.0115,  ...,  0.0015, -0.0112,  0.0230],\n",
       "                      [ 0.0147, -0.0217,  0.0287,  ..., -0.0025,  0.0041, -0.0048]])),\n",
       "             ('fc.bias',\n",
       "              tensor([-0.0596,  0.1493, -0.0091, -0.0626,  0.0423,  0.1156,  0.0135,  0.0796,\n",
       "                      -0.2534, -0.0190]))])"
      ]
     },
     "execution_count": 62,
     "metadata": {},
     "output_type": "execute_result"
    }
   ],
   "source": [
    "model.state_dict()"
   ]
  },
  {
   "cell_type": "code",
   "execution_count": 64,
   "id": "13b88128",
   "metadata": {},
   "outputs": [
    {
     "data": {
      "text/plain": [
       "OrderedDict([('fc.weight',\n",
       "              tensor([[ 0.0081,  0.0158, -0.0215,  ..., -0.0023, -0.0324, -0.0051],\n",
       "                      [ 0.0041,  0.0302, -0.0145,  ...,  0.0333,  0.0019, -0.0286],\n",
       "                      [-0.0311,  0.0032,  0.0064,  ..., -0.0249,  0.0264, -0.0266],\n",
       "                      ...,\n",
       "                      [ 0.0238,  0.0263,  0.0041,  ..., -0.0090, -0.0172,  0.0224],\n",
       "                      [ 0.0288, -0.0015, -0.0115,  ...,  0.0015, -0.0112,  0.0230],\n",
       "                      [ 0.0147, -0.0217,  0.0287,  ..., -0.0025,  0.0041, -0.0048]])),\n",
       "             ('fc.bias',\n",
       "              tensor([-0.0596,  0.1493, -0.0091, -0.0626,  0.0423,  0.1156,  0.0135,  0.0796,\n",
       "                      -0.2534, -0.0190]))])"
      ]
     },
     "execution_count": 64,
     "metadata": {},
     "output_type": "execute_result"
    }
   ],
   "source": [
    "model2 = MNISTModel()\n",
    "model2.load_state_dict(torch.load('mnist_model.pth'))\n",
    "model2.state_dict()"
   ]
  },
  {
   "cell_type": "code",
   "execution_count": null,
   "id": "b3752456",
   "metadata": {},
   "outputs": [],
   "source": []
  }
 ],
 "metadata": {
  "kernelspec": {
   "display_name": "vfi_env",
   "language": "python",
   "name": "python3"
  },
  "language_info": {
   "codemirror_mode": {
    "name": "ipython",
    "version": 3
   },
   "file_extension": ".py",
   "mimetype": "text/x-python",
   "name": "python",
   "nbconvert_exporter": "python",
   "pygments_lexer": "ipython3",
   "version": "3.9.21"
  }
 },
 "nbformat": 4,
 "nbformat_minor": 5
}
