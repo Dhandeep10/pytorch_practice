{
 "cells": [
  {
   "cell_type": "code",
   "execution_count": 1,
   "id": "9cd374eb",
   "metadata": {},
   "outputs": [],
   "source": [
    "import torch\n",
    "import numpy as np\n",
    "import torch.nn as nn\n",
    "from torch.utils.data import TensorDataset, DataLoader\n",
    "import torch.nn.functional as F\n",
    "import matplotlib.pyplot as plt"
   ]
  },
  {
   "cell_type": "markdown",
   "id": "e76c76aa",
   "metadata": {},
   "source": [
    "## basics"
   ]
  },
  {
   "cell_type": "code",
   "execution_count": 2,
   "id": "6ceefe1d",
   "metadata": {},
   "outputs": [
    {
     "name": "stdout",
     "output_type": "stream",
     "text": [
      "tensor(10.)\n",
      "10.0\n",
      "torch.float32\n"
     ]
    }
   ],
   "source": [
    "# scaler\n",
    "t1 = torch.tensor(10.)\n",
    "print(t1)\n",
    "print(t1.item())\n",
    "print(t1.dtype)"
   ]
  },
  {
   "cell_type": "code",
   "execution_count": 3,
   "id": "c28af9ac",
   "metadata": {},
   "outputs": [
    {
     "name": "stdout",
     "output_type": "stream",
     "text": [
      "tensor([1, 2, 3])\n",
      "2\n",
      "torch.int64\n"
     ]
    }
   ],
   "source": [
    "# vector\n",
    "t2 = torch.tensor([1, 2, 3])\n",
    "print(t2)\n",
    "print(t2[1].item())\n",
    "print(t2.dtype)"
   ]
  },
  {
   "cell_type": "code",
   "execution_count": 4,
   "id": "10a46328",
   "metadata": {},
   "outputs": [
    {
     "name": "stdout",
     "output_type": "stream",
     "text": [
      "tensor([[1, 2, 3],\n",
      "        [4, 5, 6]])\n",
      "6\n",
      "torch.int64\n"
     ]
    }
   ],
   "source": [
    "# matrix\n",
    "t3 = torch.tensor([[1, 2, 3], [4, 5, 6]])\n",
    "print(t3)\n",
    "print(t3[1, 2].item())\n",
    "print(t3.dtype)"
   ]
  },
  {
   "cell_type": "code",
   "execution_count": 5,
   "id": "d9f7337c",
   "metadata": {},
   "outputs": [
    {
     "name": "stdout",
     "output_type": "stream",
     "text": [
      "tensor([[[ 1.,  2.],\n",
      "         [ 3.,  4.]],\n",
      "\n",
      "        [[ 5.,  6.],\n",
      "         [ 7.,  8.]],\n",
      "\n",
      "        [[ 9., 10.],\n",
      "         [11., 12.]]])\n",
      "10.0\n",
      "torch.float32\n",
      "Shape: torch.Size([3, 2, 2])\n"
     ]
    }
   ],
   "source": [
    "# 3-d array\n",
    "t4 = torch.tensor([\n",
    "    [[1, 2], [3., 4]], \n",
    "    [[5, 6], [7, 8]], \n",
    "    [[9, 10], [11, 12]]])\n",
    "print(t4)\n",
    "print(t4[2, 0, 1].item())\n",
    "print(t4.dtype)\n",
    "print(f'Shape: {t4.shape}')"
   ]
  },
  {
   "cell_type": "code",
   "execution_count": 6,
   "id": "70442147",
   "metadata": {},
   "outputs": [
    {
     "data": {
      "text/plain": [
       "(tensor(10.), tensor(2., requires_grad=True), tensor(1., requires_grad=True))"
      ]
     },
     "execution_count": 6,
     "metadata": {},
     "output_type": "execute_result"
    }
   ],
   "source": [
    "x = torch.tensor(10.)\n",
    "w = torch.tensor(2., requires_grad=True)\n",
    "b = torch.tensor(1., requires_grad=True)\n",
    "x, w, b"
   ]
  },
  {
   "cell_type": "code",
   "execution_count": 7,
   "id": "6d17b913",
   "metadata": {},
   "outputs": [
    {
     "data": {
      "text/plain": [
       "tensor(21., grad_fn=<AddBackward0>)"
      ]
     },
     "execution_count": 7,
     "metadata": {},
     "output_type": "execute_result"
    }
   ],
   "source": [
    "y = w * x + b\n",
    "y"
   ]
  },
  {
   "cell_type": "code",
   "execution_count": 8,
   "id": "4ac15fce",
   "metadata": {},
   "outputs": [],
   "source": [
    "y.backward()"
   ]
  },
  {
   "cell_type": "code",
   "execution_count": 9,
   "id": "87c7862a",
   "metadata": {},
   "outputs": [
    {
     "name": "stdout",
     "output_type": "stream",
     "text": [
      "None\n",
      "Gradient of w: 10.0\n",
      "Gradient of b: 1.0\n"
     ]
    }
   ],
   "source": [
    "print(x.grad)  # This will be None since x does not require gradient\n",
    "print(f'Gradient of w: {w.grad}')\n",
    "print(f'Gradient of b: {b.grad}')"
   ]
  },
  {
   "cell_type": "code",
   "execution_count": 10,
   "id": "9f063c88",
   "metadata": {},
   "outputs": [
    {
     "data": {
      "text/plain": [
       "tensor([[1., 1., 1.],\n",
       "        [1., 1., 1.]])"
      ]
     },
     "execution_count": 10,
     "metadata": {},
     "output_type": "execute_result"
    }
   ],
   "source": [
    "t6 = torch.full((2, 3), 1.0)\n",
    "t6"
   ]
  },
  {
   "cell_type": "code",
   "execution_count": 11,
   "id": "c3296bca",
   "metadata": {},
   "outputs": [
    {
     "data": {
      "text/plain": [
       "tensor([[1, 2, 3],\n",
       "        [4, 5, 6],\n",
       "        [1, 2, 3],\n",
       "        [4, 5, 6]])"
      ]
     },
     "execution_count": 11,
     "metadata": {},
     "output_type": "execute_result"
    }
   ],
   "source": [
    "t7 = torch.cat((t3, t3), dim=0)\n",
    "t7"
   ]
  },
  {
   "cell_type": "code",
   "execution_count": 12,
   "id": "e68180a8",
   "metadata": {},
   "outputs": [
    {
     "data": {
      "text/plain": [
       "tensor([[ 0.8415,  0.9093,  0.1411],\n",
       "        [-0.7568, -0.9589, -0.2794],\n",
       "        [ 0.8415,  0.9093,  0.1411],\n",
       "        [-0.7568, -0.9589, -0.2794]])"
      ]
     },
     "execution_count": 12,
     "metadata": {},
     "output_type": "execute_result"
    }
   ],
   "source": [
    "t8 = torch.sin(t7)\n",
    "t8"
   ]
  },
  {
   "cell_type": "code",
   "execution_count": 13,
   "id": "beeb7ace",
   "metadata": {},
   "outputs": [
    {
     "data": {
      "text/plain": [
       "tensor([[[ 0.8415,  0.9093],\n",
       "         [ 0.1411, -0.7568]],\n",
       "\n",
       "        [[-0.9589, -0.2794],\n",
       "         [ 0.8415,  0.9093]],\n",
       "\n",
       "        [[ 0.1411, -0.7568],\n",
       "         [-0.9589, -0.2794]]])"
      ]
     },
     "execution_count": 13,
     "metadata": {},
     "output_type": "execute_result"
    }
   ],
   "source": [
    "t9 = t8.reshape(3, 2, 2)\n",
    "t9"
   ]
  },
  {
   "cell_type": "markdown",
   "id": "4e5b681a",
   "metadata": {},
   "source": [
    "## numpy"
   ]
  },
  {
   "cell_type": "code",
   "execution_count": 14,
   "id": "41db68ff",
   "metadata": {},
   "outputs": [
    {
     "name": "stdout",
     "output_type": "stream",
     "text": [
      "[[1. 2.]\n",
      " [4. 5.]]\n",
      "<class 'numpy.ndarray'>\n",
      "float64\n"
     ]
    }
   ],
   "source": [
    "x = np.array([[1, 2.], [4, 5]])\n",
    "print(x)\n",
    "print(type(x))\n",
    "print(x.dtype)"
   ]
  },
  {
   "cell_type": "code",
   "execution_count": 15,
   "id": "9ad582ca",
   "metadata": {},
   "outputs": [
    {
     "data": {
      "text/plain": [
       "tensor([[1., 2.],\n",
       "        [4., 5.]], dtype=torch.float64)"
      ]
     },
     "execution_count": 15,
     "metadata": {},
     "output_type": "execute_result"
    }
   ],
   "source": [
    "y = torch.from_numpy(x)\n",
    "y"
   ]
  },
  {
   "cell_type": "code",
   "execution_count": 16,
   "id": "e105cc4a",
   "metadata": {},
   "outputs": [
    {
     "name": "stdout",
     "output_type": "stream",
     "text": [
      "[[1. 2.]\n",
      " [4. 5.]]\n",
      "<class 'numpy.ndarray'>\n"
     ]
    }
   ],
   "source": [
    "z = y.numpy()\n",
    "print(z)\n",
    "print(type(z))"
   ]
  },
  {
   "cell_type": "markdown",
   "id": "9bdc56f2",
   "metadata": {},
   "source": [
    "## linear regression"
   ]
  },
  {
   "cell_type": "code",
   "execution_count": 17,
   "id": "c887ed80",
   "metadata": {},
   "outputs": [],
   "source": [
    "# input (temp, rainfall, humidity)\n",
    "x = np.array([[73, 67, 43],\n",
    "              [91, 88, 64],\n",
    "              [87, 134, 58],\n",
    "              [102, 43, 37],\n",
    "              [69, 96, 70],\n",
    "              [74, 66, 43],\n",
    "              [91, 87, 65],\n",
    "              [88, 134, 58],\n",
    "              [102, 43, 37],\n",
    "              [69, 96, 70]], dtype='float32')"
   ]
  },
  {
   "cell_type": "code",
   "execution_count": 18,
   "id": "761bf8e5",
   "metadata": {},
   "outputs": [],
   "source": [
    "# targets (apples, oranges)\n",
    "y = np.array([[56, 70],\n",
    "              [81, 101],\n",
    "              [119, 133],\n",
    "              [22, 37],\n",
    "              [103, 119],\n",
    "              [57, 69],\n",
    "              [81, 100],\n",
    "              [119, 133],\n",
    "              [22, 37],\n",
    "              [103, 87]], dtype='float32')"
   ]
  },
  {
   "cell_type": "code",
   "execution_count": 19,
   "id": "4a112361",
   "metadata": {},
   "outputs": [
    {
     "name": "stdout",
     "output_type": "stream",
     "text": [
      "Input shape: torch.Size([10, 3])\n",
      "Target shape: torch.Size([10, 2])\n"
     ]
    }
   ],
   "source": [
    "x = torch.from_numpy(x)\n",
    "y = torch.from_numpy(y)\n",
    "print(f'Input shape: {x.shape}')\n",
    "print(f'Target shape: {y.shape}')"
   ]
  },
  {
   "cell_type": "code",
   "execution_count": 20,
   "id": "df7f1c3e",
   "metadata": {},
   "outputs": [],
   "source": [
    "w = torch.randn(2, 3, requires_grad=True)\n",
    "b = torch.randn(2, requires_grad=True)"
   ]
  },
  {
   "cell_type": "code",
   "execution_count": 21,
   "id": "b0c5f208",
   "metadata": {},
   "outputs": [],
   "source": [
    "def model(x):\n",
    "    return x @ w.T + b"
   ]
  },
  {
   "cell_type": "code",
   "execution_count": 22,
   "id": "7228f960",
   "metadata": {},
   "outputs": [
    {
     "data": {
      "text/plain": [
       "tensor([[134.2026,  -8.0956],\n",
       "        [172.1265,  -2.6668],\n",
       "        [217.7525, -10.2642],\n",
       "        [133.8019, -24.2242],\n",
       "        [161.5357,  11.7738],\n",
       "        [134.0039,  -8.4726],\n",
       "        [171.0550,  -1.7832],\n",
       "        [218.6205, -10.7469],\n",
       "        [133.8019, -24.2242],\n",
       "        [161.5357,  11.7738]], grad_fn=<AddBackward0>)"
      ]
     },
     "execution_count": 22,
     "metadata": {},
     "output_type": "execute_result"
    }
   ],
   "source": [
    "preds = model(x)\n",
    "preds"
   ]
  },
  {
   "cell_type": "code",
   "execution_count": 23,
   "id": "f78e4492",
   "metadata": {},
   "outputs": [
    {
     "data": {
      "text/plain": [
       "tensor([[ 56.,  70.],\n",
       "        [ 81., 101.],\n",
       "        [119., 133.],\n",
       "        [ 22.,  37.],\n",
       "        [103., 119.],\n",
       "        [ 57.,  69.],\n",
       "        [ 81., 100.],\n",
       "        [119., 133.],\n",
       "        [ 22.,  37.],\n",
       "        [103.,  87.]])"
      ]
     },
     "execution_count": 23,
     "metadata": {},
     "output_type": "execute_result"
    }
   ],
   "source": [
    "y"
   ]
  },
  {
   "cell_type": "code",
   "execution_count": 24,
   "id": "1833737a",
   "metadata": {},
   "outputs": [
    {
     "data": {
      "text/plain": [
       "tensor(8951.8115, grad_fn=<MeanBackward0>)"
      ]
     },
     "execution_count": 24,
     "metadata": {},
     "output_type": "execute_result"
    }
   ],
   "source": [
    "loss = torch.mean((preds - y) ** 2)\n",
    "loss"
   ]
  },
  {
   "cell_type": "code",
   "execution_count": 25,
   "id": "304236cf",
   "metadata": {},
   "outputs": [],
   "source": [
    "loss.backward()"
   ]
  },
  {
   "cell_type": "code",
   "execution_count": 26,
   "id": "341e26f5",
   "metadata": {},
   "outputs": [],
   "source": [
    "with torch.no_grad():\n",
    "    w -= 1e-5 * w.grad\n",
    "    b -= 1e-5 * b.grad"
   ]
  },
  {
   "cell_type": "code",
   "execution_count": 27,
   "id": "1e0c0650",
   "metadata": {},
   "outputs": [
    {
     "data": {
      "text/plain": [
       "tensor(6152.8188, grad_fn=<MeanBackward0>)"
      ]
     },
     "execution_count": 27,
     "metadata": {},
     "output_type": "execute_result"
    }
   ],
   "source": [
    "preds = model(x)\n",
    "loss = torch.mean((preds - y) ** 2)\n",
    "loss"
   ]
  },
  {
   "cell_type": "code",
   "execution_count": 28,
   "id": "4547c06d",
   "metadata": {},
   "outputs": [
    {
     "name": "stdout",
     "output_type": "stream",
     "text": [
      "Epoch 0, Loss: 6152.8188\n",
      "Epoch 1000, Loss: 43.8595\n",
      "Epoch 2000, Loss: 34.9555\n",
      "Epoch 3000, Loss: 33.6467\n",
      "Epoch 4000, Loss: 33.4542\n",
      "Epoch 5000, Loss: 33.4258\n",
      "Epoch 6000, Loss: 33.4216\n",
      "Epoch 7000, Loss: 33.4208\n",
      "Epoch 8000, Loss: 33.4206\n",
      "Epoch 9000, Loss: 33.4205\n"
     ]
    }
   ],
   "source": [
    "# Training loop with proper gradient handling\n",
    "for epoch in range(10000):\n",
    "    # Forward pass\n",
    "    preds = model(x)\n",
    "    loss = torch.mean((preds - y) ** 2)\n",
    "    \n",
    "    # Backward pass\n",
    "    loss.backward()\n",
    "    \n",
    "    # Update parameters (without tracking gradients)\n",
    "    with torch.no_grad():\n",
    "        w -= 1e-5 * w.grad\n",
    "        b -= 1e-5 * b.grad\n",
    "    \n",
    "    # Zero gradients for next iteration\n",
    "    w.grad.zero_()\n",
    "    b.grad.zero_()\n",
    "    \n",
    "    # Print loss every 20 epochs\n",
    "    if epoch % 1000 == 0:\n",
    "        print(f'Epoch {epoch}, Loss: {loss.item():.4f}')"
   ]
  },
  {
   "cell_type": "code",
   "execution_count": 29,
   "id": "2875044d",
   "metadata": {},
   "outputs": [
    {
     "name": "stdout",
     "output_type": "stream",
     "text": [
      "Final Loss: 33.4203\n"
     ]
    }
   ],
   "source": [
    "preds = model(x)\n",
    "loss = torch.mean((preds - y) ** 2)\n",
    "print(f'Final Loss: {loss.item():.4f}')"
   ]
  },
  {
   "cell_type": "code",
   "execution_count": 30,
   "id": "d3bdc3a3",
   "metadata": {},
   "outputs": [
    {
     "data": {
      "text/plain": [
       "tensor([[ 57.3113,  68.8299],\n",
       "        [ 82.4651,  94.3095],\n",
       "        [119.0965, 133.5669],\n",
       "        [ 21.3885,  40.0295],\n",
       "        [102.0174, 107.6389],\n",
       "        [ 56.0671,  67.7748],\n",
       "        [ 82.2971,  93.8603],\n",
       "        [118.7036, 133.4103],\n",
       "        [ 21.3885,  40.0295],\n",
       "        [102.0174, 107.6389]], grad_fn=<AddBackward0>)"
      ]
     },
     "execution_count": 30,
     "metadata": {},
     "output_type": "execute_result"
    }
   ],
   "source": [
    "preds"
   ]
  },
  {
   "cell_type": "code",
   "execution_count": 31,
   "id": "9fd870df",
   "metadata": {},
   "outputs": [
    {
     "data": {
      "text/plain": [
       "tensor([[ 56.,  70.],\n",
       "        [ 81., 101.],\n",
       "        [119., 133.],\n",
       "        [ 22.,  37.],\n",
       "        [103., 119.],\n",
       "        [ 57.,  69.],\n",
       "        [ 81., 100.],\n",
       "        [119., 133.],\n",
       "        [ 22.,  37.],\n",
       "        [103.,  87.]])"
      ]
     },
     "execution_count": 31,
     "metadata": {},
     "output_type": "execute_result"
    }
   ],
   "source": [
    "y"
   ]
  },
  {
   "cell_type": "markdown",
   "id": "96f955b2",
   "metadata": {},
   "source": [
    "### using nn"
   ]
  },
  {
   "cell_type": "code",
   "execution_count": 32,
   "id": "6d312189",
   "metadata": {},
   "outputs": [],
   "source": [
    "inputs = np.array([[73, 67, 43], [91, 88, 64], [87, 134, 58], \n",
    "                   [102, 43, 37], [69, 96, 70], [73, 67, 43], \n",
    "                   [91, 88, 64], [87, 134, 58], [102, 43, 37], \n",
    "                   [69, 96, 70], [73, 67, 43], [91, 88, 64], \n",
    "                   [87, 134, 58], [102, 43, 37], [69, 96, 70]], \n",
    "                  dtype='float32')\n",
    "\n",
    "# Targets (apples, oranges)\n",
    "targets = np.array([[56, 70], [81, 101], [119, 133], \n",
    "                    [22, 37], [103, 119], [56, 70], \n",
    "                    [81, 101], [119, 133], [22, 37], \n",
    "                    [103, 119], [56, 70], [81, 101], \n",
    "                    [119, 133], [22, 37], [103, 119]], \n",
    "                   dtype='float32')\n",
    "\n",
    "inputs = torch.from_numpy(inputs)\n",
    "targets = torch.from_numpy(targets)"
   ]
  },
  {
   "cell_type": "code",
   "execution_count": 33,
   "id": "58f32e50",
   "metadata": {},
   "outputs": [
    {
     "data": {
      "text/plain": [
       "(tensor([[ 73.,  67.,  43.],\n",
       "         [ 91.,  88.,  64.],\n",
       "         [ 87., 134.,  58.],\n",
       "         [102.,  43.,  37.],\n",
       "         [ 69.,  96.,  70.],\n",
       "         [ 73.,  67.,  43.],\n",
       "         [ 91.,  88.,  64.],\n",
       "         [ 87., 134.,  58.],\n",
       "         [102.,  43.,  37.],\n",
       "         [ 69.,  96.,  70.],\n",
       "         [ 73.,  67.,  43.],\n",
       "         [ 91.,  88.,  64.],\n",
       "         [ 87., 134.,  58.],\n",
       "         [102.,  43.,  37.],\n",
       "         [ 69.,  96.,  70.]]),\n",
       " tensor([[ 56.,  70.],\n",
       "         [ 81., 101.],\n",
       "         [119., 133.],\n",
       "         [ 22.,  37.],\n",
       "         [103., 119.],\n",
       "         [ 56.,  70.],\n",
       "         [ 81., 101.],\n",
       "         [119., 133.],\n",
       "         [ 22.,  37.],\n",
       "         [103., 119.],\n",
       "         [ 56.,  70.],\n",
       "         [ 81., 101.],\n",
       "         [119., 133.],\n",
       "         [ 22.,  37.],\n",
       "         [103., 119.]]))"
      ]
     },
     "execution_count": 33,
     "metadata": {},
     "output_type": "execute_result"
    }
   ],
   "source": [
    "inputs, targets"
   ]
  },
  {
   "cell_type": "code",
   "execution_count": 34,
   "id": "7fda9250",
   "metadata": {},
   "outputs": [
    {
     "data": {
      "text/plain": [
       "(tensor([[73., 67., 43.],\n",
       "         [91., 88., 64.]]),\n",
       " tensor([[ 56.,  70.],\n",
       "         [ 81., 101.]]))"
      ]
     },
     "execution_count": 34,
     "metadata": {},
     "output_type": "execute_result"
    }
   ],
   "source": [
    "train_ds = TensorDataset(inputs, targets)\n",
    "train_ds[0:2]"
   ]
  },
  {
   "cell_type": "code",
   "execution_count": 35,
   "id": "e51722a0",
   "metadata": {},
   "outputs": [],
   "source": [
    "batch_size = 5\n",
    "train_dl = DataLoader(train_ds, batch_size=batch_size, shuffle=True)"
   ]
  },
  {
   "cell_type": "code",
   "execution_count": 36,
   "id": "79826b06",
   "metadata": {},
   "outputs": [
    {
     "name": "stdout",
     "output_type": "stream",
     "text": [
      "Batch size: 5\n",
      "Batch inputs: tensor([[ 87., 134.,  58.],\n",
      "        [102.,  43.,  37.],\n",
      "        [ 69.,  96.,  70.],\n",
      "        [102.,  43.,  37.],\n",
      "        [ 69.,  96.,  70.]])\n",
      "Batch targets: tensor([[119., 133.],\n",
      "        [ 22.,  37.],\n",
      "        [103., 119.],\n",
      "        [ 22.,  37.],\n",
      "        [103., 119.]])\n"
     ]
    }
   ],
   "source": [
    "for xb, yb in train_dl:\n",
    "    print(f'Batch size: {xb.shape[0]}')\n",
    "    print(f'Batch inputs: {xb}')\n",
    "    print(f'Batch targets: {yb}')\n",
    "    break  # Just show the first batch"
   ]
  },
  {
   "cell_type": "code",
   "execution_count": 37,
   "id": "f4c47c0f",
   "metadata": {},
   "outputs": [
    {
     "name": "stdout",
     "output_type": "stream",
     "text": [
      "Parameter containing:\n",
      "tensor([[-0.5220,  0.5338,  0.4109],\n",
      "        [-0.1423,  0.3060, -0.1168]], requires_grad=True)\n",
      "Parameter containing:\n",
      "tensor([0.3825, 0.2658], requires_grad=True)\n"
     ]
    }
   ],
   "source": [
    "model = nn.Linear(3, 2)\n",
    "print(model.weight)\n",
    "print(model.bias)"
   ]
  },
  {
   "cell_type": "code",
   "execution_count": 38,
   "id": "9d5afaf5",
   "metadata": {},
   "outputs": [
    {
     "data": {
      "text/plain": [
       "[Parameter containing:\n",
       " tensor([[-0.5220,  0.5338,  0.4109],\n",
       "         [-0.1423,  0.3060, -0.1168]], requires_grad=True),\n",
       " Parameter containing:\n",
       " tensor([0.3825, 0.2658], requires_grad=True)]"
      ]
     },
     "execution_count": 38,
     "metadata": {},
     "output_type": "execute_result"
    }
   ],
   "source": [
    "list(model.parameters())"
   ]
  },
  {
   "cell_type": "code",
   "execution_count": 39,
   "id": "092906c1",
   "metadata": {},
   "outputs": [
    {
     "data": {
      "text/plain": [
       "tensor([[ 15.7113,   5.3609],\n",
       "        [ 26.1547,   6.7741],\n",
       "        [ 50.3325,  22.1204],\n",
       "        [-14.7041,  -5.4092],\n",
       "        [ 44.3750,  11.6520],\n",
       "        [ 15.7113,   5.3609],\n",
       "        [ 26.1547,   6.7741],\n",
       "        [ 50.3325,  22.1204],\n",
       "        [-14.7041,  -5.4092],\n",
       "        [ 44.3750,  11.6520],\n",
       "        [ 15.7113,   5.3609],\n",
       "        [ 26.1547,   6.7741],\n",
       "        [ 50.3325,  22.1204],\n",
       "        [-14.7041,  -5.4092],\n",
       "        [ 44.3750,  11.6520]], grad_fn=<AddmmBackward0>)"
      ]
     },
     "execution_count": 39,
     "metadata": {},
     "output_type": "execute_result"
    }
   ],
   "source": [
    "preds = model(inputs)\n",
    "preds"
   ]
  },
  {
   "cell_type": "code",
   "execution_count": 40,
   "id": "6e902b8e",
   "metadata": {},
   "outputs": [],
   "source": [
    "loss_fn = F.mse_loss"
   ]
  },
  {
   "cell_type": "code",
   "execution_count": 41,
   "id": "571f5536",
   "metadata": {},
   "outputs": [
    {
     "name": "stdout",
     "output_type": "stream",
     "text": [
      "Loss: 5280.36669921875\n"
     ]
    }
   ],
   "source": [
    "loss = loss_fn(preds, targets)\n",
    "print(f'Loss: {loss.item()}')"
   ]
  },
  {
   "cell_type": "code",
   "execution_count": 42,
   "id": "1c5bb093",
   "metadata": {},
   "outputs": [],
   "source": [
    "opt = torch.optim.SGD(model.parameters(), lr=1e-5)"
   ]
  },
  {
   "cell_type": "code",
   "execution_count": 43,
   "id": "9e862aa4",
   "metadata": {},
   "outputs": [],
   "source": [
    "losses = []\n",
    "def fit(num_epochs, model, loss_fn, opt, train_dl):\n",
    "    for epoch in range(num_epochs):\n",
    "        for xb, yb in train_dl:\n",
    "            # Forward pass\n",
    "            preds = model(xb)\n",
    "            loss = loss_fn(preds, yb)\n",
    "            losses.append(loss.item())\n",
    "            \n",
    "            # Backward pass\n",
    "            loss.backward()\n",
    "            \n",
    "            # Update parameters\n",
    "            opt.step()\n",
    "            opt.zero_grad()  \n",
    "            \n",
    "        if epoch % 10 == 0:\n",
    "            print(f'Epoch {epoch}, Loss: {loss.item():.4f}')"
   ]
  },
  {
   "cell_type": "code",
   "execution_count": 44,
   "id": "146e782f",
   "metadata": {},
   "outputs": [
    {
     "name": "stdout",
     "output_type": "stream",
     "text": [
      "Epoch 0, Loss: 2276.6309\n",
      "Epoch 10, Loss: 140.9562\n",
      "Epoch 20, Loss: 64.6191\n",
      "Epoch 30, Loss: 80.3020\n",
      "Epoch 40, Loss: 25.4348\n",
      "Epoch 50, Loss: 52.5382\n",
      "Epoch 60, Loss: 46.6090\n",
      "Epoch 70, Loss: 31.1266\n",
      "Epoch 80, Loss: 24.7911\n",
      "Epoch 90, Loss: 12.1385\n"
     ]
    }
   ],
   "source": [
    "fit(100, model, loss_fn, opt, train_dl)"
   ]
  },
  {
   "cell_type": "code",
   "execution_count": 45,
   "id": "00d25a7f",
   "metadata": {},
   "outputs": [
    {
     "data": {
      "image/png": "[encoded data removed]",
      "text/plain": [
       "<Figure size 1000x500 with 1 Axes>"
      ]
     },
     "metadata": {},
     "output_type": "display_data"
    }
   ],
   "source": [
    "plt.figure(figsize=(10, 5))\n",
    "plt.plot(losses, label='Training Loss')\n",
    "plt.xlabel('Iteration')\n",
    "plt.ylabel('Loss')\n",
    "plt.title('Training Loss Over Time')\n",
    "plt.legend()\n",
    "plt.show()"
   ]
  },
  {
   "cell_type": "code",
   "execution_count": 46,
   "id": "1489ef16",
   "metadata": {},
   "outputs": [
    {
     "data": {
      "text/plain": [
       "tensor([[ 57.4938,  71.5998],\n",
       "        [ 81.7737,  97.2505],\n",
       "        [119.4038, 139.6659],\n",
       "        [ 22.3517,  43.0267],\n",
       "        [100.4830, 109.6611],\n",
       "        [ 57.4938,  71.5998],\n",
       "        [ 81.7737,  97.2505],\n",
       "        [119.4038, 139.6659],\n",
       "        [ 22.3517,  43.0267],\n",
       "        [100.4830, 109.6611],\n",
       "        [ 57.4938,  71.5998],\n",
       "        [ 81.7737,  97.2505],\n",
       "        [119.4038, 139.6659],\n",
       "        [ 22.3517,  43.0267],\n",
       "        [100.4830, 109.6611]], grad_fn=<AddmmBackward0>)"
      ]
     },
     "execution_count": 46,
     "metadata": {},
     "output_type": "execute_result"
    }
   ],
   "source": [
    "preds = model(inputs)\n",
    "preds"
   ]
  },
  {
   "cell_type": "code",
   "execution_count": 47,
   "id": "8d5fef84",
   "metadata": {},
   "outputs": [
    {
     "data": {
      "text/plain": [
       "tensor([[ 56.,  70.],\n",
       "        [ 81., 101.],\n",
       "        [119., 133.],\n",
       "        [ 22.,  37.],\n",
       "        [103., 119.],\n",
       "        [ 56.,  70.],\n",
       "        [ 81., 101.],\n",
       "        [119., 133.],\n",
       "        [ 22.,  37.],\n",
       "        [103., 119.],\n",
       "        [ 56.,  70.],\n",
       "        [ 81., 101.],\n",
       "        [119., 133.],\n",
       "        [ 22.,  37.],\n",
       "        [103., 119.]])"
      ]
     },
     "execution_count": 47,
     "metadata": {},
     "output_type": "execute_result"
    }
   ],
   "source": [
    "targets"
   ]
  },
  {
   "cell_type": "code",
   "execution_count": 48,
   "id": "1c00db4d",
   "metadata": {},
   "outputs": [
    {
     "data": {
      "image/png": "[encoded data removed]",
      "text/plain": [
       "<Figure size 1000x500 with 1 Axes>"
      ]
     },
     "metadata": {},
     "output_type": "display_data"
    }
   ],
   "source": [
    "plt.figure(figsize=(10, 5))\n",
    "plt.scatter(targets[:, 0].numpy(), targets[:, 1].numpy(), label='Targets', color='blue')\n",
    "plt.scatter(preds[:, 0].detach().numpy(), preds[:, 1].detach().numpy(), label='Predictions', color='red')\n",
    "plt.xlabel('Apples')\n",
    "plt.ylabel('Oranges')\n",
    "plt.title('Targets vs Predictions')\n",
    "plt.legend()\n",
    "plt.show()"
   ]
  },
  {
   "cell_type": "code",
   "execution_count": null,
   "id": "49d680b3",
   "metadata": {},
   "outputs": [],
   "source": []
  }
 ],
 "metadata": {
  "kernelspec": {
   "display_name": "minigpt",
   "language": "python",
   "name": "python3"
  },
  "language_info": {
   "codemirror_mode": {
    "name": "ipython",
    "version": 3
   },
   "file_extension": ".py",
   "mimetype": "text/x-python",
   "name": "python",
   "nbconvert_exporter": "python",
   "pygments_lexer": "ipython3",
   "version": "3.10.18"
  }
 },
 "nbformat": 4,
 "nbformat_minor": 5
}
